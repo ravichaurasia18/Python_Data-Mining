{
  "nbformat": 4,
  "nbformat_minor": 0,
  "metadata": {
    "colab": {
      "name": "Panda2.ipynb",
      "provenance": [],
      "private_outputs": true,
      "authorship_tag": "ABX9TyNoIIGiWch9vLEU00AT5nub",
      "include_colab_link": true
    },
    "kernelspec": {
      "name": "python3",
      "display_name": "Python 3"
    }
  },
  "cells": [
    {
      "cell_type": "markdown",
      "metadata": {
        "id": "view-in-github",
        "colab_type": "text"
      },
      "source": [
        "<a href=\"https://colab.research.google.com/github/ravichaurasia18/Python_Data-Mining/blob/master/Panda/Panda2.ipynb\" target=\"_parent\"><img src=\"https://colab.research.google.com/assets/colab-badge.svg\" alt=\"Open In Colab\"/></a>"
      ]
    },
    {
      "cell_type": "code",
      "metadata": {
        "id": "wAcjxI_yDBZz",
        "colab_type": "code",
        "colab": {}
      },
      "source": [
        "from google.colab import files\n",
        "myData = files.upload()"
      ],
      "execution_count": null,
      "outputs": []
    },
    {
      "cell_type": "code",
      "metadata": {
        "id": "-BpO5dbMDoVB",
        "colab_type": "code",
        "colab": {}
      },
      "source": [
        "import pandas as pd\n",
        "import io\n",
        "myDataSet = pd.read_csv(io.BytesIO(myData['currencies.csv']))\n",
        "myDataSet"
      ],
      "execution_count": null,
      "outputs": []
    },
    {
      "cell_type": "markdown",
      "metadata": {
        "id": "-J1GU50aEdi6",
        "colab_type": "text"
      },
      "source": [
        "1 : Selecting Rows"
      ]
    },
    {
      "cell_type": "markdown",
      "metadata": {
        "id": "QzEPYzZ-GAuu",
        "colab_type": "text"
      },
      "source": [
        "first we check to take start and end index"
      ]
    },
    {
      "cell_type": "code",
      "metadata": {
        "id": "lyUVCcItE8ix",
        "colab_type": "code",
        "colab": {}
      },
      "source": [
        "myDataSet[2:9]"
      ],
      "execution_count": null,
      "outputs": []
    },
    {
      "cell_type": "markdown",
      "metadata": {
        "id": "GGC7bvJnGHPn",
        "colab_type": "text"
      },
      "source": [
        "here below we take start index and all it next index come to auto take"
      ]
    },
    {
      "cell_type": "code",
      "metadata": {
        "id": "f1ZShR-kFSgH",
        "colab_type": "code",
        "colab": {}
      },
      "source": [
        "myDataSet[2:]"
      ],
      "execution_count": null,
      "outputs": []
    },
    {
      "cell_type": "markdown",
      "metadata": {
        "id": "M68WzjhZFhDY",
        "colab_type": "text"
      },
      "source": [
        "Below Syntax take data set in rows through starting index and number of gap between every index"
      ]
    },
    {
      "cell_type": "code",
      "metadata": {
        "id": "Ymfi8S9bFaZh",
        "colab_type": "code",
        "colab": {}
      },
      "source": [
        "myDataSet[2::3].head()"
      ],
      "execution_count": null,
      "outputs": []
    },
    {
      "cell_type": "markdown",
      "metadata": {
        "id": "fp1DXaFuEpAC",
        "colab_type": "text"
      },
      "source": [
        "2 : Selecting Columns From Above DataFrames"
      ]
    },
    {
      "cell_type": "markdown",
      "metadata": {
        "id": "HCjLnYZqGkUY",
        "colab_type": "text"
      },
      "source": [
        "Two Ways To Select The Columns In Data Frames \n",
        "** myDataSet['column_name'] or myDataSet.column_name**   this syntac is used for single columns to select"
      ]
    },
    {
      "cell_type": "code",
      "metadata": {
        "id": "NbbMwrIsHZst",
        "colab_type": "code",
        "colab": {}
      },
      "source": [
        "x = myDataSet['Currency']\n",
        "x.head(10)"
      ],
      "execution_count": null,
      "outputs": []
    },
    {
      "cell_type": "code",
      "metadata": {
        "id": "A3cVCF4iHcbP",
        "colab_type": "code",
        "colab": {}
      },
      "source": [
        "x = myDataSet.Euro\n",
        "x.head(10)"
      ],
      "execution_count": null,
      "outputs": []
    },
    {
      "cell_type": "markdown",
      "metadata": {
        "id": "Thp8SyiuHjDG",
        "colab_type": "text"
      },
      "source": [
        "Select Multiple Columnc Be Select \n",
        "myDataSet[['','','']] and type(myDataSet[[]])"
      ]
    },
    {
      "cell_type": "code",
      "metadata": {
        "id": "N2_pJGo6Hnp5",
        "colab_type": "code",
        "colab": {}
      },
      "source": [
        "x = myDataSet[['Currency','Euro','Colombian Peso']]\n",
        "x.head(10)"
      ],
      "execution_count": null,
      "outputs": []
    },
    {
      "cell_type": "markdown",
      "metadata": {
        "id": "Epi4Xf6oE0WS",
        "colab_type": "text"
      },
      "source": [
        "3 : Selceting Of Subsetes Of DataFrames"
      ]
    },
    {
      "cell_type": "code",
      "metadata": {
        "id": "hfZGvCl7JBI8",
        "colab_type": "code",
        "colab": {}
      },
      "source": [
        "myDataSet.set_index('Colombian Peso').head(10)"
      ],
      "execution_count": null,
      "outputs": []
    },
    {
      "cell_type": "code",
      "metadata": {
        "id": "3817JRMvJTzw",
        "colab_type": "code",
        "colab": {}
      },
      "source": [
        "myDataSet[\"Euro\"]"
      ],
      "execution_count": null,
      "outputs": []
    },
    {
      "cell_type": "code",
      "metadata": {
        "id": "Xlt-zSwUJrs4",
        "colab_type": "code",
        "colab": {}
      },
      "source": [
        "myDataSet.info()"
      ],
      "execution_count": null,
      "outputs": []
    }
  ]
}