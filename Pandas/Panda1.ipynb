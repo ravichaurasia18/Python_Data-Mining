{
  "nbformat": 4,
  "nbformat_minor": 0,
  "metadata": {
    "colab": {
      "name": "Panda1.ipynb",
      "provenance": [],
      "private_outputs": true,
      "collapsed_sections": [],
      "authorship_tag": "ABX9TyNWoV+2RhUjbzm8/hLKw6ZD",
      "include_colab_link": true
    },
    "kernelspec": {
      "name": "python3",
      "display_name": "Python 3"
    }
  },
  "cells": [
    {
      "cell_type": "markdown",
      "metadata": {
        "id": "view-in-github",
        "colab_type": "text"
      },
      "source": [
        "<a href=\"https://colab.research.google.com/github/ravichaurasia18/Python_Data-Mining/blob/master/Pandas/Panda1.ipynb\" target=\"_parent\"><img src=\"https://colab.research.google.com/assets/colab-badge.svg\" alt=\"Open In Colab\"/></a>"
      ]
    },
    {
      "cell_type": "markdown",
      "metadata": {
        "id": "duzUFSXM99eM",
        "colab_type": "text"
      },
      "source": [
        "First We import A files through this code"
      ]
    },
    {
      "cell_type": "code",
      "metadata": {
        "id": "uCJGAiuIxuJq",
        "colab_type": "code",
        "colab": {}
      },
      "source": [
        "from google.colab import files\n",
        "myFile = files.upload()"
      ],
      "execution_count": null,
      "outputs": []
    },
    {
      "cell_type": "markdown",
      "metadata": {
        "id": "fNnxlcoH-El8",
        "colab_type": "text"
      },
      "source": [
        "After Import File To Read CSV Files"
      ]
    },
    {
      "cell_type": "code",
      "metadata": {
        "id": "JYWPl_NRyCIm",
        "colab_type": "code",
        "colab": {}
      },
      "source": [
        "import pandas as pd\n",
        "import io\n",
        "myData = pd.read_csv(io.BytesIO(myFile['currencies.csv']))\n",
        "myData"
      ],
      "execution_count": null,
      "outputs": []
    },
    {
      "cell_type": "markdown",
      "metadata": {
        "id": "y9IPZfg0-R5A",
        "colab_type": "text"
      },
      "source": [
        "This Head Is Used To Display The First Rows Of Data Of Columns"
      ]
    },
    {
      "cell_type": "code",
      "metadata": {
        "id": "ObDtUpeTytxt",
        "colab_type": "code",
        "colab": {}
      },
      "source": [
        "myData.head(10)"
      ],
      "execution_count": null,
      "outputs": []
    },
    {
      "cell_type": "markdown",
      "metadata": {
        "id": "C_7pzeNF-nBH",
        "colab_type": "text"
      },
      "source": [
        "This Below Code Is Display The Tail Of Last Rows Of Data Of Columns"
      ]
    },
    {
      "cell_type": "code",
      "metadata": {
        "id": "hmzW4-4hy4Ze",
        "colab_type": "code",
        "colab": {}
      },
      "source": [
        "myData.tail(10)"
      ],
      "execution_count": null,
      "outputs": []
    },
    {
      "cell_type": "markdown",
      "metadata": {
        "id": "f1t7_7Mp-vVq",
        "colab_type": "text"
      },
      "source": [
        "This Info function Help To Find The To Check How Many Of Non Null Values I n Columns"
      ]
    },
    {
      "cell_type": "code",
      "metadata": {
        "id": "SP_rK3cazGTr",
        "colab_type": "code",
        "colab": {}
      },
      "source": [
        "myData.info()"
      ],
      "execution_count": null,
      "outputs": []
    },
    {
      "cell_type": "markdown",
      "metadata": {
        "id": "xcM3mn2n-64-",
        "colab_type": "text"
      },
      "source": [
        "Describe function Is Help To Find The Total Count, Mean,Mode,Median,Standard Division,Minimum,25%,50%,75%,max"
      ]
    },
    {
      "cell_type": "code",
      "metadata": {
        "id": "v8kwshLnzXpy",
        "colab_type": "code",
        "colab": {}
      },
      "source": [
        "myData.describe()"
      ],
      "execution_count": null,
      "outputs": []
    },
    {
      "cell_type": "markdown",
      "metadata": {
        "id": "zWREsG0G_NbU",
        "colab_type": "text"
      },
      "source": [
        "This Display Total Culomns Of Data Set"
      ]
    },
    {
      "cell_type": "code",
      "metadata": {
        "id": "5V6u61Xmzyp_",
        "colab_type": "code",
        "colab": {}
      },
      "source": [
        "myData.columns"
      ],
      "execution_count": null,
      "outputs": []
    },
    {
      "cell_type": "markdown",
      "metadata": {
        "id": "z4j_LzqS_Ttf",
        "colab_type": "text"
      },
      "source": [
        "This Shape Display Total Rows And Culomns"
      ]
    },
    {
      "cell_type": "code",
      "metadata": {
        "id": "_E5RIqPO0N8H",
        "colab_type": "code",
        "colab": {}
      },
      "source": [
        "myData.shape"
      ],
      "execution_count": null,
      "outputs": []
    },
    {
      "cell_type": "markdown",
      "metadata": {
        "id": "ncz8rqSZ_Y9G",
        "colab_type": "text"
      },
      "source": [
        "This Display Below All Value In Arrays"
      ]
    },
    {
      "cell_type": "code",
      "metadata": {
        "id": "TDcjR8G206Jl",
        "colab_type": "code",
        "colab": {}
      },
      "source": [
        "myData.values"
      ],
      "execution_count": null,
      "outputs": []
    },
    {
      "cell_type": "code",
      "metadata": {
        "id": "5OM6J8Sw1Igw",
        "colab_type": "code",
        "colab": {}
      },
      "source": [
        "myData.head()"
      ],
      "execution_count": null,
      "outputs": []
    },
    {
      "cell_type": "markdown",
      "metadata": {
        "id": "4ccHkjkL_f37",
        "colab_type": "text"
      },
      "source": [
        "Below Here Be Set Index Value Which Start"
      ]
    },
    {
      "cell_type": "code",
      "metadata": {
        "id": "zrU-U1-U1MNw",
        "colab_type": "code",
        "colab": {}
      },
      "source": [
        "myData.set_index('Currency')"
      ],
      "execution_count": null,
      "outputs": []
    },
    {
      "cell_type": "markdown",
      "metadata": {
        "id": "iTlmRqyq_pOE",
        "colab_type": "text"
      },
      "source": [
        "Here Below Sort The Columnn items in descinding order"
      ]
    },
    {
      "cell_type": "code",
      "metadata": {
        "id": "u3s76eSf1xrK",
        "colab_type": "code",
        "colab": {}
      },
      "source": [
        "myData.sort_index(axis = 0, ascending = False)"
      ],
      "execution_count": null,
      "outputs": []
    },
    {
      "cell_type": "markdown",
      "metadata": {
        "id": "mso47Lq0_xG-",
        "colab_type": "text"
      },
      "source": [
        "Here We Default sort assending Order"
      ]
    },
    {
      "cell_type": "code",
      "metadata": {
        "id": "bIozVQsJ17mE",
        "colab_type": "code",
        "colab": {}
      },
      "source": [
        "myData.sort_index(axis = 0)"
      ],
      "execution_count": null,
      "outputs": []
    },
    {
      "cell_type": "code",
      "metadata": {
        "id": "sYb_T1jY2SjI",
        "colab_type": "code",
        "colab": {}
      },
      "source": [
        "myData.sort_values(by='Currency').head()"
      ],
      "execution_count": null,
      "outputs": []
    },
    {
      "cell_type": "code",
      "metadata": {
        "id": "ND_OOPeB2jIY",
        "colab_type": "code",
        "colab": {}
      },
      "source": [
        "myData.sort_values(by='Euro', ascending = False).head()"
      ],
      "execution_count": null,
      "outputs": []
    },
    {
      "cell_type": "code",
      "metadata": {
        "id": "a9yNJ-wo3b0d",
        "colab_type": "code",
        "colab": {}
      },
      "source": [
        "myData.sort_values(by=['Euro','Polish Zloty','Peso Uruguayo',], ascending = False)"
      ],
      "execution_count": null,
      "outputs": []
    },
    {
      "cell_type": "markdown",
      "metadata": {
        "id": "DxcRbpNf_4fi",
        "colab_type": "text"
      },
      "source": [
        "Here Below Find The Total date between start data to end date\n"
      ]
    },
    {
      "cell_type": "code",
      "metadata": {
        "id": "Z9mQjXwY39QQ",
        "colab_type": "code",
        "colab": {}
      },
      "source": [
        "seriesDate = pd.date_range(start = 'July 01 2016', end = 'July 18 2016')\n",
        "print(seriesDate)\n",
        "type(seriesDate)"
      ],
      "execution_count": null,
      "outputs": []
    },
    {
      "cell_type": "markdown",
      "metadata": {
        "id": "SWHYOyF8A37_",
        "colab_type": "text"
      },
      "source": [
        "Create Series Of Our Data Set\n"
      ]
    }
  ]
}