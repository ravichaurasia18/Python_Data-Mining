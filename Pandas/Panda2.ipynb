{
  "nbformat": 4,
  "nbformat_minor": 0,
  "metadata": {
    "colab": {
      "name": "Panda2.ipynb",
      "provenance": [],
      "private_outputs": true,
      "collapsed_sections": [],
      "authorship_tag": "ABX9TyPumMhlRsMloA5IWmqS6eYi",
      "include_colab_link": true
    },
    "kernelspec": {
      "name": "python3",
      "display_name": "Python 3"
    }
  },
  "cells": [
    {
      "cell_type": "markdown",
      "metadata": {
        "id": "view-in-github",
        "colab_type": "text"
      },
      "source": [
        "<a href=\"https://colab.research.google.com/github/ravichaurasia18/Python_Data-Mining/blob/master/Pandas/Panda2.ipynb\" target=\"_parent\"><img src=\"https://colab.research.google.com/assets/colab-badge.svg\" alt=\"Open In Colab\"/></a>"
      ]
    },
    {
      "cell_type": "code",
      "metadata": {
        "id": "wAcjxI_yDBZz",
        "colab_type": "code",
        "colab": {}
      },
      "source": [
        "from google.colab import files\n",
        "myData = files.upload()"
      ],
      "execution_count": null,
      "outputs": []
    },
    {
      "cell_type": "code",
      "metadata": {
        "id": "-BpO5dbMDoVB",
        "colab_type": "code",
        "colab": {}
      },
      "source": [
        "import pandas as pd\n",
        "import io\n",
        "myDataSet = pd.read_csv(io.BytesIO(myData['currencies.csv']))\n",
        "myDataSet"
      ],
      "execution_count": null,
      "outputs": []
    },
    {
      "cell_type": "markdown",
      "metadata": {
        "id": "-J1GU50aEdi6",
        "colab_type": "text"
      },
      "source": [
        "1 : Selecting Rows"
      ]
    },
    {
      "cell_type": "markdown",
      "metadata": {
        "id": "QzEPYzZ-GAuu",
        "colab_type": "text"
      },
      "source": [
        "first we check to take start and end index"
      ]
    },
    {
      "cell_type": "code",
      "metadata": {
        "id": "lyUVCcItE8ix",
        "colab_type": "code",
        "colab": {}
      },
      "source": [
        "myDataSet[2:9]"
      ],
      "execution_count": null,
      "outputs": []
    },
    {
      "cell_type": "markdown",
      "metadata": {
        "id": "GGC7bvJnGHPn",
        "colab_type": "text"
      },
      "source": [
        "here below we take start index and all it next index come to auto take"
      ]
    },
    {
      "cell_type": "code",
      "metadata": {
        "id": "f1ZShR-kFSgH",
        "colab_type": "code",
        "colab": {}
      },
      "source": [
        "myDataSet[2:]"
      ],
      "execution_count": null,
      "outputs": []
    },
    {
      "cell_type": "markdown",
      "metadata": {
        "id": "M68WzjhZFhDY",
        "colab_type": "text"
      },
      "source": [
        "Below Syntax take data set in rows through starting index and number of gap between every index"
      ]
    },
    {
      "cell_type": "code",
      "metadata": {
        "id": "Ymfi8S9bFaZh",
        "colab_type": "code",
        "colab": {}
      },
      "source": [
        "myDataSet[2::3].head()"
      ],
      "execution_count": null,
      "outputs": []
    },
    {
      "cell_type": "markdown",
      "metadata": {
        "id": "fp1DXaFuEpAC",
        "colab_type": "text"
      },
      "source": [
        "2 : Selecting Columns From Above DataFrames"
      ]
    },
    {
      "cell_type": "markdown",
      "metadata": {
        "id": "HCjLnYZqGkUY",
        "colab_type": "text"
      },
      "source": [
        "Two Ways To Select The Columns In Data Frames \n",
        "** myDataSet['column_name'] or myDataSet.column_name**   this syntac is used for single columns to select"
      ]
    },
    {
      "cell_type": "code",
      "metadata": {
        "id": "NbbMwrIsHZst",
        "colab_type": "code",
        "colab": {}
      },
      "source": [
        "x = myDataSet['Currency']\n",
        "x.head(10)"
      ],
      "execution_count": null,
      "outputs": []
    },
    {
      "cell_type": "code",
      "metadata": {
        "id": "A3cVCF4iHcbP",
        "colab_type": "code",
        "colab": {}
      },
      "source": [
        "x = myDataSet.Euro\n",
        "x.head(10)"
      ],
      "execution_count": null,
      "outputs": []
    },
    {
      "cell_type": "markdown",
      "metadata": {
        "id": "Thp8SyiuHjDG",
        "colab_type": "text"
      },
      "source": [
        "Select Multiple Columnc Be Select \n",
        "myDataSet[['','','']] and type(myDataSet[[]])"
      ]
    },
    {
      "cell_type": "code",
      "metadata": {
        "id": "N2_pJGo6Hnp5",
        "colab_type": "code",
        "colab": {}
      },
      "source": [
        "x = myDataSet[['Currency','Euro','Colombian Peso']]\n",
        "x.head(10)"
      ],
      "execution_count": null,
      "outputs": []
    },
    {
      "cell_type": "markdown",
      "metadata": {
        "id": "Epi4Xf6oE0WS",
        "colab_type": "text"
      },
      "source": [
        "3 : Selceting Of Subsetes Of DataFrames"
      ]
    },
    {
      "cell_type": "code",
      "metadata": {
        "id": "hfZGvCl7JBI8",
        "colab_type": "code",
        "colab": {}
      },
      "source": [
        "myDataSet.set_index('Colombian Peso').head(10)"
      ],
      "execution_count": null,
      "outputs": []
    },
    {
      "cell_type": "code",
      "metadata": {
        "id": "3817JRMvJTzw",
        "colab_type": "code",
        "colab": {}
      },
      "source": [
        "myDataSet[\"Euro\"]"
      ],
      "execution_count": null,
      "outputs": []
    },
    {
      "cell_type": "code",
      "metadata": {
        "id": "Xlt-zSwUJrs4",
        "colab_type": "code",
        "colab": {}
      },
      "source": [
        "myDataSet.info()"
      ],
      "execution_count": null,
      "outputs": []
    },
    {
      "cell_type": "markdown",
      "metadata": {
        "id": "troeE-ujLDIB",
        "colab_type": "text"
      },
      "source": [
        "Panda 3 \n",
        "        Here We Learn Position and Label Based Indexing\n",
        "        This Two Concept is used dataFrames positioning and labeling (df.iloc and df.loc)\n",
        "        Using both the methods, we will do the following indexing operations on a dataframe:\n",
        "Selecting single elements/cells,\n",
        "Selecting single and multiple rows,\n",
        "Selecting single and multiple columns,\n",
        "Selecting multiple rows and columns."
      ]
    },
    {
      "cell_type": "code",
      "metadata": {
        "id": "_qwfIkOcZ9nS",
        "colab_type": "code",
        "colab": {}
      },
      "source": [
        "myDataSet.iloc[2,4]\n",
        "myDataSet.head()"
      ],
      "execution_count": null,
      "outputs": []
    },
    {
      "cell_type": "code",
      "metadata": {
        "id": "1A92xFLtaWFp",
        "colab_type": "code",
        "colab": {}
      },
      "source": [
        "myDataSet.iloc[3,6]\n",
        "myDataSet.iloc[5]"
      ],
      "execution_count": null,
      "outputs": []
    },
    {
      "cell_type": "code",
      "metadata": {
        "id": "eQaBcDsFa0BU",
        "colab_type": "code",
        "colab": {}
      },
      "source": [
        "myDataSet[1:3]"
      ],
      "execution_count": null,
      "outputs": []
    },
    {
      "cell_type": "markdown",
      "metadata": {
        "id": "8fvMqJG6bs3T",
        "colab_type": "text"
      },
      "source": [
        "df.iloc[R,C]"
      ]
    },
    {
      "cell_type": "code",
      "metadata": {
        "id": "e6QPRnMYa7s7",
        "colab_type": "code",
        "colab": {}
      },
      "source": [
        "myDataSet.iloc[[1,2,3]]\n",
        "myDataSet.iloc[[1,2,3],4]"
      ],
      "execution_count": null,
      "outputs": []
    },
    {
      "cell_type": "code",
      "metadata": {
        "id": "OrikK49WcCLa",
        "colab_type": "code",
        "colab": {}
      },
      "source": [
        "myDataSet.loc[[1,3,4],'Euro']"
      ],
      "execution_count": null,
      "outputs": []
    },
    {
      "cell_type": "code",
      "metadata": {
        "id": "VCFuGJKc_qoS",
        "colab_type": "code",
        "colab": {}
      },
      "source": [
        "myDataSet.iloc[[1,2,3,4],5]"
      ],
      "execution_count": null,
      "outputs": []
    },
    {
      "cell_type": "code",
      "metadata": {
        "id": "Ga5_u9l7_yDT",
        "colab_type": "code",
        "colab": {}
      },
      "source": [
        "myDataSet.iloc[:3,:3]"
      ],
      "execution_count": null,
      "outputs": []
    },
    {
      "cell_type": "code",
      "metadata": {
        "id": "hrLXR-tu_70i",
        "colab_type": "code",
        "colab": {}
      },
      "source": [
        "myDataSet.iloc[1:3,[2,3,4]]"
      ],
      "execution_count": null,
      "outputs": []
    },
    {
      "cell_type": "code",
      "metadata": {
        "id": "A1R6cweWADHb",
        "colab_type": "code",
        "colab": {}
      },
      "source": [
        "myDataSet.iloc[:,2:8]"
      ],
      "execution_count": null,
      "outputs": []
    },
    {
      "cell_type": "markdown",
      "metadata": {
        "id": "RZbfBG4zBDhc",
        "colab_type": "text"
      },
      "source": [
        "Label Based Indexing Code"
      ]
    },
    {
      "cell_type": "code",
      "metadata": {
        "id": "WBqdu2GmBJGA",
        "colab_type": "code",
        "colab": {}
      },
      "source": [
        "help(pd.DataFrame.loc)"
      ],
      "execution_count": null,
      "outputs": []
    },
    {
      "cell_type": "code",
      "metadata": {
        "id": "yscwcjEABoDq",
        "colab_type": "code",
        "colab": {}
      },
      "source": [
        "myDataSet.head(11)"
      ],
      "execution_count": null,
      "outputs": []
    },
    {
      "cell_type": "code",
      "metadata": {
        "id": "3IDzD8X3B3eu",
        "colab_type": "code",
        "colab": {}
      },
      "source": [
        "myDataSet['Botswana Pula']"
      ],
      "execution_count": null,
      "outputs": []
    },
    {
      "cell_type": "code",
      "metadata": {
        "id": "4y6zRHb4CGXF",
        "colab_type": "code",
        "colab": {}
      },
      "source": [
        "myDataSet[['Currency','Botswana Pula']]"
      ],
      "execution_count": null,
      "outputs": []
    },
    {
      "cell_type": "code",
      "metadata": {
        "id": "D2eA0nEkCUCt",
        "colab_type": "code",
        "colab": {}
      },
      "source": [
        "myDataSet.reset_index(inplace=True)"
      ],
      "execution_count": null,
      "outputs": []
    },
    {
      "cell_type": "code",
      "metadata": {
        "id": "PQKDgeMLCxPl",
        "colab_type": "code",
        "colab": {}
      },
      "source": [
        "myDataSet.loc[1,'Euro']"
      ],
      "execution_count": null,
      "outputs": []
    },
    {
      "cell_type": "code",
      "metadata": {
        "id": "LYkFzi2xDL8L",
        "colab_type": "code",
        "colab": {}
      },
      "source": [
        "myDataSet.set_index('Currency')"
      ],
      "execution_count": null,
      "outputs": []
    },
    {
      "cell_type": "code",
      "metadata": {
        "id": "YYL8JV4EDXn0",
        "colab_type": "code",
        "colab": {}
      },
      "source": [
        "myDataSet.loc[10,'Euro']"
      ],
      "execution_count": null,
      "outputs": []
    },
    {
      "cell_type": "code",
      "metadata": {
        "id": "InyxQ_xeD5O9",
        "colab_type": "code",
        "colab": {}
      },
      "source": [
        "myDataSet.loc[9]"
      ],
      "execution_count": null,
      "outputs": []
    },
    {
      "cell_type": "code",
      "metadata": {
        "id": "uEhivqnFEAtj",
        "colab_type": "code",
        "colab": {}
      },
      "source": [
        "myDataSet.loc[9,:]"
      ],
      "execution_count": null,
      "outputs": []
    },
    {
      "cell_type": "markdown",
      "metadata": {
        "id": "xLxkDa2lFLRH",
        "colab_type": "text"
      },
      "source": [
        "Slicing and Dicing Dataframes\n",
        "You have seen how to do indexing of dataframes using df.iloc and df.loc. Now, let's see how to subset dataframes based on certain conditions."
      ]
    },
    {
      "cell_type": "code",
      "metadata": {
        "id": "hN8CKUaLFjA1",
        "colab_type": "code",
        "colab": {}
      },
      "source": [
        "myDataSet.Euro>1.2375"
      ],
      "execution_count": null,
      "outputs": []
    },
    {
      "cell_type": "code",
      "metadata": {
        "id": "06-kJMXMF4zu",
        "colab_type": "code",
        "colab": {}
      },
      "source": [
        "myDataSet.loc[myDataSet.Euro>1.2]"
      ],
      "execution_count": null,
      "outputs": []
    },
    {
      "cell_type": "code",
      "metadata": {
        "id": "RcJtJiyIGSqu",
        "colab_type": "code",
        "colab": {}
      },
      "source": [
        "myDataSet.loc[(myDataSet.Euro>1.2),:]"
      ],
      "execution_count": null,
      "outputs": []
    }
  ]
}