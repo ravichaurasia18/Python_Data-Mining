{
  "nbformat": 4,
  "nbformat_minor": 0,
  "metadata": {
    "colab": {
      "name": "Panda5.ipynb",
      "provenance": [],
      "private_outputs": true,
      "authorship_tag": "ABX9TyMcVjZ7CnnIpHbWm3AftT91",
      "include_colab_link": true
    },
    "kernelspec": {
      "name": "python3",
      "display_name": "Python 3"
    }
  },
  "cells": [
    {
      "cell_type": "markdown",
      "metadata": {
        "id": "view-in-github",
        "colab_type": "text"
      },
      "source": [
        "<a href=\"https://colab.research.google.com/github/ravichaurasia18/Python_Data-Mining/blob/master/Pandas/Panda5.ipynb\" target=\"_parent\"><img src=\"https://colab.research.google.com/assets/colab-badge.svg\" alt=\"Open In Colab\"/></a>"
      ]
    },
    {
      "cell_type": "markdown",
      "metadata": {
        "id": "X0kdt_DzU1EK",
        "colab_type": "text"
      },
      "source": [
        "Panda Chapter 7 : \n",
        "\n",
        "Lambda Function Pivot Table -\n",
        "                 Until now, we have not made any changes or modifications to the data. In this section, we will:\n",
        "Use lambda functions to create new and alter existing columns\n",
        "Use pandas pivot tables as an alternative to df.groupby() to summarise data\n",
        "Let's first read all the files and create a myDataSet."
      ]
    },
    {
      "cell_type": "markdown",
      "metadata": {
        "id": "j3D8ARuaVH_H",
        "colab_type": "text"
      },
      "source": [
        "First Merge Previous tutorial like a and merge multiple data set\n",
        "like \n",
        "/*\n",
        "# Loading libraries and files\n",
        "import numpy as np\n",
        "import pandas as pd\n",
        "\n",
        "market_df = pd.read_csv(\"\")\n",
        "customer_df = pd.read_csv(\"\")\n",
        "product_df = pd.read_csv(\"\")\n",
        "shipping_df = pd.read_csv(\"\")\n",
        "orders_df = pd.read_csv(\"\\\")\n",
        "\n",
        "# Merging the dataframes to create a master_df\n",
        "df_1 = pd.merge(market_df, customer_df, how='inner', on='Cust_id')\n",
        "df_2 = pd.merge(df_1, product_df, how='inner', on='Prod_id')\n",
        "df_3 = pd.merge(df_2, shipping_df, how='inner', on='Ship_id')\n",
        "master_df = pd.merge(df_3, orders_df, how='inner', on='Ord_id')\n",
        "\n",
        "master_df.head()\n",
        "*/"
      ]
    },
    {
      "cell_type": "markdown",
      "metadata": {
        "id": "uge4PMjMVoRl",
        "colab_type": "text"
      },
      "source": [
        "Lambda Functions\n",
        "Say you want to create a new column indicating whether a given order was profitable or not (1/0).\n",
        "\n",
        "You need to apply a function which returns 1 if Profit > 0, else 0. This can be easily done using the apply() method on a column of the dataframe."
      ]
    },
    {
      "cell_type": "markdown",
      "metadata": {
        "id": "WIk2v8k2Vsox",
        "colab_type": "text"
      },
      "source": [
        "use The Code \n",
        " \n",
        " /*\n",
        "# Create a function to be applied\n",
        "def is_positive(x):\n",
        "    return x > 0\n",
        "\n",
        "# Create a new column\n",
        "master_df['is_profitable'] = master_df['Profit'].apply(is_positive)\n",
        "master_df.head()\n",
        " */"
      ]
    },
    {
      "cell_type": "markdown",
      "metadata": {
        "id": "MlH7A8sOVzMU",
        "colab_type": "text"
      },
      "source": [
        ""
      ]
    },
    {
      "cell_type": "markdown",
      "metadata": {
        "id": "o7IML6aBV6e5",
        "colab_type": "text"
      },
      "source": [
        "The same can be done in just one line of code using lambda functions.\n",
        "\n",
        "/*\n",
        "# Create a new column using a lambda function\n",
        "master_df['is_profitable'] = master_df['Profit'].apply(lambda x: x > 0)\n",
        "master_df.head()\n",
        "*/\n",
        "\n",
        "Now you can use the new column to compare the percentage of profitable orders across groups.\n",
        "\n",
        "/*\n",
        "# Comparing percentage of profitable orders across customer segments\n",
        "by_segment = master_df.groupby('Customer_Segment')\n",
        "by_segment.is_profitable.mean()\n",
        "\n",
        "\n",
        "# Comparing percentage of profitable orders across product categories\n",
        "by_category = master_df.groupby('Product_Category')\n",
        "by_category.is_profitable.mean()\n",
        "\n",
        "\n",
        "*/"
      ]
    },
    {
      "cell_type": "markdown",
      "metadata": {
        "id": "CKbxTvKMWN-I",
        "colab_type": "text"
      },
      "source": [
        "In FURNITURE, 46% orders are profitable, compared to 57% in TECHNOLOGY.\n",
        "\n",
        "\n",
        "/*\n",
        "# You can also use apply and lambda to alter existing columns\n",
        "# E.g. you want to see Profit as one decimal place\n",
        "# apply the round() function \n",
        "master_df['Profit'] = master_df['Profit'].apply(lambda x: round(x, 1))\n",
        "master_df.head()\n",
        "\n",
        "\n",
        "You sometimes need to create new columns using existing columns, for instance, say you want a column Profit / Order_Quantity.\n",
        "/*\n",
        "# Creating a column Profit / Order_Quantity\n",
        "master_df['profit_per_qty'] = master_df['Profit'] / master_df['Order_Quantity']\n",
        "master_df.head()\n",
        "*/\n",
        "*/"
      ]
    },
    {
      "cell_type": "markdown",
      "metadata": {
        "id": "fFuWkqu5Wffy",
        "colab_type": "text"
      },
      "source": [
        "Pivot Tables\n",
        "You may want to use pandas pivot tables as an alternative to groupby(). They provide Excel-like functionalities to create aggregate tables.\n",
        "\n",
        "\n",
        "/*\n",
        "# Read documentation\n",
        "help(pd.DataFrame.pivot_table)\n",
        "\n",
        "\n",
        "\n",
        "# E.g. Compare average Sales across customer segments\n",
        "master_df.pivot_table(values = 'Sales', index = 'Customer_Segment', aggfunc = 'mean')\n",
        "\n",
        "\n",
        "\n",
        "# E.g. compare total number of profitable orders across regions\n",
        "# Note that since is_profitable is 1/0, we can directly compute the sum\n",
        "master_df.pivot_table(values = 'is_profitable', index = 'Region', aggfunc = 'sum')\n",
        "\n",
        "\n",
        "\n",
        "# Grouping by both rows and columns\n",
        "# Compare the total profit across product categories and customer segments\n",
        "# Since there are two categorical variables, we use both rows (index) and columns\n",
        "master_df.pivot_table(values = 'Profit', \n",
        "                      index = 'Product_Category', \n",
        "                      columns = 'Customer_Segment', \n",
        "                      aggfunc = 'sum')\n",
        "*/"
      ]
    },
    {
      "cell_type": "markdown",
      "metadata": {
        "id": "7uAuItqpXBDJ",
        "colab_type": "text"
      },
      "source": [
        "# Computes the mean of all numeric columns across categories\n",
        "# Notice that the means of Order_IDs are meaningless\n",
        "master_df.pivot_table(columns = 'Product_Category')"
      ]
    }
  ]
}