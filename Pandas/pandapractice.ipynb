{
  "nbformat": 4,
  "nbformat_minor": 0,
  "metadata": {
    "colab": {
      "name": "pandapractice.ipynb",
      "provenance": [],
      "private_outputs": true,
      "collapsed_sections": [],
      "authorship_tag": "ABX9TyO+gZvPG+jm1u2ATNPis3xs",
      "include_colab_link": true
    },
    "kernelspec": {
      "name": "python3",
      "display_name": "Python 3"
    }
  },
  "cells": [
    {
      "cell_type": "markdown",
      "metadata": {
        "id": "view-in-github",
        "colab_type": "text"
      },
      "source": [
        "<a href=\"https://colab.research.google.com/github/ravichaurasia18/Python_Data-Mining/blob/master/Pandas/pandapractice.ipynb\" target=\"_parent\"><img src=\"https://colab.research.google.com/assets/colab-badge.svg\" alt=\"Open In Colab\"/></a>"
      ]
    },
    {
      "cell_type": "code",
      "metadata": {
        "id": "WskeqbLgeJXx",
        "colab_type": "code",
        "colab": {}
      },
      "source": [
        "from google.colab import files\n",
        "myData = files.upload();"
      ],
      "execution_count": null,
      "outputs": []
    },
    {
      "cell_type": "markdown",
      "metadata": {
        "id": "YPYEMrrMfYSc",
        "colab_type": "text"
      },
      "source": [
        "Set 1 : Data Set Observation \n",
        "1.   using df.head(n) or df.head()\n",
        "2.   using df.tail(n) or df.tail()\n",
        "3.   using df.iloc(row : col) \n",
        "4.   using df.filter(regex = 'regex')\n",
        "5.   using df.loc(:,'col1':'col5') or like or extra\n",
        "6.   using info or shape or counts or Columns\n",
        "\n",
        "\n",
        "\n",
        "\n",
        "\n",
        "\n",
        "\n",
        "\n"
      ]
    },
    {
      "cell_type": "code",
      "metadata": {
        "id": "TtPT9SyugWy3",
        "colab_type": "code",
        "colab": {}
      },
      "source": [
        "myData"
      ],
      "execution_count": null,
      "outputs": []
    },
    {
      "cell_type": "code",
      "metadata": {
        "id": "or5yd7W9hIH_",
        "colab_type": "code",
        "colab": {}
      },
      "source": [
        "import pandas as pd\n",
        "import io\n",
        "DF = pd.read_csv(io.BytesIO(myData['market_fact.csv']))\n",
        "DF"
      ],
      "execution_count": null,
      "outputs": []
    },
    {
      "cell_type": "code",
      "metadata": {
        "id": "U0mOD6a4h_kZ",
        "colab_type": "code",
        "colab": {}
      },
      "source": [
        "DF.head(10)"
      ],
      "execution_count": null,
      "outputs": []
    },
    {
      "cell_type": "code",
      "metadata": {
        "id": "IAmCaQO3iDVz",
        "colab_type": "code",
        "colab": {}
      },
      "source": [
        "DF.tail(10)"
      ],
      "execution_count": null,
      "outputs": []
    },
    {
      "cell_type": "code",
      "metadata": {
        "id": "Ba1YS3ifiLfz",
        "colab_type": "code",
        "colab": {}
      },
      "source": [
        "DF.iloc[4 : 10]"
      ],
      "execution_count": null,
      "outputs": []
    },
    {
      "cell_type": "code",
      "metadata": {
        "id": "bIU-hFIpi5Dz",
        "colab_type": "code",
        "colab": {}
      },
      "source": [
        "DF.filter(regex=\"regex\")"
      ],
      "execution_count": null,
      "outputs": []
    },
    {
      "cell_type": "code",
      "metadata": {
        "id": "yS9Cw8fWjQDK",
        "colab_type": "code",
        "colab": {}
      },
      "source": [
        "DF.filter(regex=\"Ship_id\")"
      ],
      "execution_count": null,
      "outputs": []
    },
    {
      "cell_type": "code",
      "metadata": {
        "id": "FKFpk-VLidCt",
        "colab_type": "code",
        "colab": {}
      },
      "source": [
        "DF.filter(regex=\"Ship_id\").head(10)"
      ],
      "execution_count": null,
      "outputs": []
    },
    {
      "cell_type": "code",
      "metadata": {
        "id": "ceVKCdaJjUyD",
        "colab_type": "code",
        "colab": {}
      },
      "source": [
        "DF.loc[:,\"Ship_id\" : \"Discount\"]"
      ],
      "execution_count": null,
      "outputs": []
    },
    {
      "cell_type": "code",
      "metadata": {
        "id": "ljAWuGdNjnG6",
        "colab_type": "code",
        "colab": {}
      },
      "source": [
        "DF.info()"
      ],
      "execution_count": null,
      "outputs": []
    },
    {
      "cell_type": "code",
      "metadata": {
        "id": "qHo7BqXNjs9K",
        "colab_type": "code",
        "colab": {}
      },
      "source": [
        "DF.info"
      ],
      "execution_count": null,
      "outputs": []
    },
    {
      "cell_type": "code",
      "metadata": {
        "id": "iK0CqZfGjwmZ",
        "colab_type": "code",
        "colab": {}
      },
      "source": [
        "DF.shape"
      ],
      "execution_count": null,
      "outputs": []
    },
    {
      "cell_type": "code",
      "metadata": {
        "id": "bWry5_mlj4jW",
        "colab_type": "code",
        "colab": {}
      },
      "source": [
        "DF.count"
      ],
      "execution_count": null,
      "outputs": []
    },
    {
      "cell_type": "code",
      "metadata": {
        "id": "0blCghaGkFft",
        "colab_type": "code",
        "colab": {}
      },
      "source": [
        "DF.columns"
      ],
      "execution_count": null,
      "outputs": []
    },
    {
      "cell_type": "markdown",
      "metadata": {
        "id": "heF60CJEk_Hd",
        "colab_type": "text"
      },
      "source": [
        "Set 2 : Data Set Plotting\n",
        "\n",
        "1. using df.plot.hist()\n",
        "2. using df.plot.scatter(x = 'w',y ='h')"
      ]
    },
    {
      "cell_type": "code",
      "metadata": {
        "id": "4odl0OP-lXOq",
        "colab_type": "code",
        "colab": {}
      },
      "source": [
        "DF.plot.hist()"
      ],
      "execution_count": null,
      "outputs": []
    },
    {
      "cell_type": "code",
      "metadata": {
        "id": "BJWkGIXilffO",
        "colab_type": "code",
        "colab": {}
      },
      "source": [
        "DF.plot.scatter(x = 'Sales',y='Shipping_Cost')"
      ],
      "execution_count": null,
      "outputs": []
    }
  ]
}